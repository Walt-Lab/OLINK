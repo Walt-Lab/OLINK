{
 "cells": [
  {
   "cell_type": "code",
   "execution_count": 14,
   "metadata": {},
   "outputs": [],
   "source": [
    "import sys\n",
    "\n",
    "sys.path.append(\n",
    "    \"C:\\\\Users\\\\Wyss User\\\\AppData\\\\Local\\\\Packages\\\\PythonSoftwareFoundation.Python.3.11_qbz5n2kfra8p0\\\\LocalCache\\\\local-packages\\\\Python311\\\\site-packages\"\n",
    ")\n",
    "\n",
    "import biolib\n",
    "import gzip\n",
    "import os\n",
    "\n",
    "import pandas as pd"
   ]
  },
  {
   "cell_type": "code",
   "execution_count": 20,
   "metadata": {},
   "outputs": [],
   "source": [
    "ALL_FASTA_OUTPUT_PATH = \"C:\\\\Users\\\\Wyss User\\\\Documents\\\\EVs\\\\OLINK\\\\all_fasta_ht.fasta\"\n",
    "ALL_TARGETS_OUTPUT_DIRECTORY = \"C:\\\\Users\\\\Wyss User\\\\Documents\\\\EVs\\\\OLINK\\\\tmhmm_all_targets_ht_panel\"\n",
    "ASSAY_LIST_PATH = \"C:\\\\Users\\\\Wyss User\\\\Documents\\\\EVs\\\\OLINK\\\\ht_panel_assay_list.xlsx\"\n",
    "TMHMM_OUTPUT = \"C:\\\\Users\\\\Wyss User\\\\Documents\\\\EVs\\\\OLINK\\\\tmhmm_all_targets_ht_panel\\/TMRs.gff3\"\n",
    "UNIPROT_TO_FASTA_PATH = \"C:\\\\Users\\\\Wyss User\\\\Documents\\\\EVs\\\\OLINK\\\\uniprotkb_proteome_UP000005640_2023_11_20.fasta.gz\""
   ]
  },
  {
   "cell_type": "code",
   "execution_count": 16,
   "metadata": {},
   "outputs": [],
   "source": [
    "assay_list = pd.read_excel(ASSAY_LIST_PATH)\n",
    "\n",
    "\n",
    "# Map UniProt IDs to the corresponding FASTA sequences\n",
    "\n",
    "\n",
    "def parse_gz_file(file_path):\n",
    "    protein_dict = {}\n",
    "    current_uniprot_id = None\n",
    "    current_sequence = \"\"\n",
    "    with gzip.open(file_path, \"rt\") as f:\n",
    "        for line in f:\n",
    "            line = line.strip()\n",
    "            if line.startswith(\">\"):\n",
    "                if current_uniprot_id is not None:\n",
    "                    protein_dict[current_uniprot_id] = current_sequence\n",
    "                    current_sequence = \"\"\n",
    "                if \"|\" in line:\n",
    "                    current_uniprot_id = line.split(\"|\")[1].strip()\n",
    "                else:\n",
    "                    print(f\"Skipping line without expected format: {line}\")\n",
    "                    current_uniprot_id = None\n",
    "            else:\n",
    "                current_sequence += line\n",
    "        if current_uniprot_id is not None:\n",
    "            protein_dict[current_uniprot_id] = current_sequence\n",
    "    return protein_dict\n",
    "\n",
    "protein_data = parse_gz_file(UNIPROT_TO_FASTA_PATH)\n",
    "\n",
    "assay_list[\"Sequence\"] = assay_list[\"UniProt ID\"].map(\n",
    "    lambda x: protein_data.get(x, \"N/A\")\n",
    ")"
   ]
  },
  {
   "cell_type": "code",
   "execution_count": 18,
   "metadata": {},
   "outputs": [
    {
     "name": "stdout",
     "output_type": "stream",
     "text": [
      "2023-12-20 14:29:06,731 | INFO : Loaded project DTU/DeepTMHMM:1.0.24\n",
      "2023-12-20 14:29:09,013 | INFO : Job \"77be513e-e398-48c8-997a-a00bcd733552\" running...\n",
      "Running DeepTMHMM on 5397 sequences...\n",
      "Step 1/4 | Loading transformer model...\n",
      "\n",
      "Step 2/4 | Generating embeddings for sequences...\n",
      "Generating embeddings: 100% 5397/5397 [6:05:21<00:00,  4.06s/seq]  \n",
      "\n",
      "Step 3/4 | Predicting topologies for sequences in batches of 1...\n",
      "Topology prediction: 100% 5397/5397 [4:37:59<00:00,  3.09s/seq]  \n",
      "\n",
      "Step 4/4 | Generating output...\n",
      "2023-12-21 01:13:24,738 | INFO : Saving 3 files to C:\\Users\\Wyss User\\Documents\\EVs\\OLINK\\tmhmm_all_targets_ht_panel...\n"
     ]
    }
   ],
   "source": [
    "# Create a FASTA file containing the information for the OLINK targets\n",
    "\n",
    "def export_fasta(output_path, df):\n",
    "    with open(output_path, \"w\") as output_file:\n",
    "        for index, row in df.iterrows():\n",
    "            output_file.write(f'>{row[\"UniProt ID\"]}\\n')\n",
    "            output_file.write(f'{row[\"Sequence\"]}\\n')\n",
    "export_fasta(ALL_FASTA_OUTPUT_PATH, assay_list)\n",
    "\n",
    "# Use the TMHMM deep learning model to predict the localication of each of the OLINK targets\n",
    "deeptmhmm = biolib.load(\"DTU/DeepTMHMM\")\n",
    "def tmhmm_localization(targets, output_directory):\n",
    "    if not os.path.exists(output_directory):\n",
    "        os.makedirs(output_directory)\n",
    "    os.chdir(output_directory)\n",
    "    with open(\"query.fasta\", \"w\") as fasta_file:\n",
    "        for _, row in targets.iterrows():\n",
    "            sequence = row[\"Sequence\"]\n",
    "            uniprot_id = row[\"UniProt ID\"]\n",
    "            fasta_line = f\">{uniprot_id}\\n{sequence}\\n\"\n",
    "            fasta_file.write(fasta_line)\n",
    "        biolib.utils.STREAM_STDOUT = True\n",
    "        deeptmhmm_job = deeptmhmm.cli(\n",
    "            args=\"--fasta query.fasta\", machine=\"local\"\n",
    "        )\n",
    "        deeptmhmm_job.save_files(output_directory)\n",
    "\n",
    "tmhmm_localization(assay_list, ALL_TARGETS_OUTPUT_DIRECTORY)"
   ]
  },
  {
   "cell_type": "code",
   "execution_count": 21,
   "metadata": {},
   "outputs": [],
   "source": [
    "# Import the TMHMM output\n",
    "with open(TMHMM_OUTPUT, \"r\") as gff_file:\n",
    "    gff_lines = gff_file.readlines()\n",
    "\n",
    "# Create lists to store data\n",
    "uniprot_ids = []\n",
    "region_locations = []\n",
    "region_starts = []\n",
    "region_ends = []\n",
    "\n",
    "# Process each line in the GFF file\n",
    "for line in gff_lines:\n",
    "    # Skip lines starting with \"//\"\n",
    "    if not line.startswith(\"//\"):\n",
    "        # Split the line by tabs\n",
    "        columns = line.strip().split(\"\\t\")\n",
    "\n",
    "        # Ensure that the line has enough columns\n",
    "        if len(columns) >= 4:\n",
    "            # Extract information from the columns\n",
    "            uniprot_id = columns[0]\n",
    "            region_location = columns[1]\n",
    "            region_start = int(columns[2])\n",
    "            region_end = int(columns[3])\n",
    "\n",
    "            uniprot_ids.append(uniprot_id)\n",
    "            region_locations.append(region_location)\n",
    "            region_starts.append(region_start)\n",
    "            region_ends.append(region_end)\n",
    "\n",
    "# Create a new dataframe\n",
    "data = {\n",
    "    \"UniProt ID\": uniprot_ids,\n",
    "    \"Region Location\": region_locations,\n",
    "    \"Region Start\": region_starts,\n",
    "    \"Region End\": region_ends,\n",
    "}\n",
    "\n",
    "tmhmm_df = pd.DataFrame(data)\n",
    "\n",
    "tm_tmhmm = tmhmm_df[tmhmm_df[\"Region Location\"] == \"TMhelix\"]\n",
    "outside_tmhmm = tmhmm_df[tmhmm_df[\"Region Location\"] == \"outside\"]\n",
    "inside_tmhmm = tmhmm_df[tmhmm_df[\"Region Location\"] == \"inside\"]\n",
    "\n",
    "tm_uniprots = set(tm_tmhmm[\"UniProt ID\"])\n",
    "inside_uniprots = set(inside_tmhmm[\"UniProt ID\"])\n",
    "outside_uniprots = set(outside_tmhmm[\"UniProt ID\"])\n",
    "\n",
    "inside_uniprots = inside_uniprots - tm_uniprots - outside_uniprots\n",
    "outside_uniprots = outside_uniprots - tm_uniprots - inside_uniprots"
   ]
  },
  {
   "cell_type": "code",
   "execution_count": 22,
   "metadata": {},
   "outputs": [
    {
     "data": {
      "text/plain": [
       "953"
      ]
     },
     "execution_count": 22,
     "metadata": {},
     "output_type": "execute_result"
    }
   ],
   "source": [
    "len(tm_uniprots)"
   ]
  },
  {
   "cell_type": "code",
   "execution_count": 24,
   "metadata": {},
   "outputs": [
    {
     "data": {
      "text/plain": [
       "3522"
      ]
     },
     "execution_count": 24,
     "metadata": {},
     "output_type": "execute_result"
    }
   ],
   "source": [
    "len(inside_uniprots)"
   ]
  },
  {
   "cell_type": "code",
   "execution_count": 25,
   "metadata": {},
   "outputs": [
    {
     "data": {
      "text/plain": [
       "922"
      ]
     },
     "execution_count": 25,
     "metadata": {},
     "output_type": "execute_result"
    }
   ],
   "source": [
    "len(outside_uniprots)"
   ]
  }
 ],
 "metadata": {
  "kernelspec": {
   "display_name": "base",
   "language": "python",
   "name": "python3"
  },
  "language_info": {
   "codemirror_mode": {
    "name": "ipython",
    "version": 3
   },
   "file_extension": ".py",
   "mimetype": "text/x-python",
   "name": "python",
   "nbconvert_exporter": "python",
   "pygments_lexer": "ipython3",
   "version": "3.9.17"
  }
 },
 "nbformat": 4,
 "nbformat_minor": 2
}
