{
 "cells": [
  {
   "cell_type": "code",
   "execution_count": 1,
   "metadata": {},
   "outputs": [],
   "source": [
    "import os\n",
    "import sys\n",
    "\n",
    "sys.path.extend([\n",
    "    \"C:\\\\Users\\\\Wyss User\\\\AppData\\\\Local\\\\Packages\\\\PythonSoftwareFoundation.Python.3.11_qbz5n2kfra8p0\\\\LocalCache\\\\local-packages\\\\Python311\\\\site-packages\",\n",
    "    \"C:\\\\Users\\\\Wyss User\\\\Documents\\\\EVs\\\\OLINK\\\\src\",\n",
    "])\n",
    "\n",
    "from brainrnaseq_specificity import map_hgnc_ids, create_enrichment_dataframe, calculate_enrichment\n",
    "from identify_targets import identify_targets\n",
    "from raw_data_preprocessing import clean_up_raw_data, plot_protein_fractionation\n",
    "\n",
    "os.chdir(\"C:\\\\Users\\\\Wyss User\\\\Documents\\\\EVs\\\\OLINK\")"
   ]
  },
  {
   "cell_type": "code",
   "execution_count": 2,
   "metadata": {},
   "outputs": [],
   "source": [
    "assay_list_path = \"data\\\\231220_ht_panel_assay_list.xlsx\"\n",
    "brain_rna_seq_raw_path = \"data\\\\240411_brain_rna_seq_raw.csv\"\n",
    "output_directory = \"outputs\\\\ht_output\"\n",
    "plate_layout_path = \"data\\\\231204_Walt_Olink_HT_Plate.xlsx\"\n",
    "raw_data = \"data\\\\240214_Walt_Olink_HT_Raw.parquet\"\n",
    "uniprot_fasta_database = \"data\\\\uniprot_fasta_database.gz\""
   ]
  },
  {
   "cell_type": "code",
   "execution_count": 3,
   "metadata": {},
   "outputs": [
    {
     "name": "stderr",
     "output_type": "stream",
     "text": [
      "C:\\Users\\Wyss User\\Documents\\EVs\\OLINK\\src\\raw_data_preprocessing.py:63: SettingWithCopyWarning: \n",
      "A value is trying to be set on a copy of a slice from a DataFrame.\n",
      "Try using .loc[row_indexer,col_indexer] = value instead\n",
      "\n",
      "See the caveats in the documentation: https://pandas.pydata.org/pandas-docs/stable/user_guide/indexing.html#returning-a-view-versus-a-copy\n",
      "  unique_data.loc[:, \"Linear NPX\"] = unique_data[\"PCNormalizedNPX\"].map(lambda x: 2**x)\n"
     ]
    }
   ],
   "source": [
    "# create a tidy dataframe from the raw data file\n",
    "\n",
    "tidy_data = clean_up_raw_data(raw_data, plate_layout_path)"
   ]
  },
  {
   "cell_type": "code",
   "execution_count": 4,
   "metadata": {},
   "outputs": [],
   "source": [
    "# identify targets found inside microglia cells that may be EV associated using the raw data file\n",
    "\n",
    "identify_targets(\n",
    "    assay_list_path = assay_list_path,\n",
    "    uniprot_fasta_database = uniprot_fasta_database, \n",
    "    brain_rna_seq_raw_path = brain_rna_seq_raw_path,\n",
    "    region = \"internal\", \n",
    "    cell_type = \"microglia\", \n",
    "    specificity_metric = \"tau\", \n",
    "    specificity_cutoff = 0.75,\n",
    "    high_fractions = ['9', '10'], \n",
    "    low_fractions = ['7', '11', '12', '13'], \n",
    "    sample_health = 'healthy', \n",
    "    mean_median_individual = 'individual_median',\n",
    "    raw_olink_data_file = raw_data,\n",
    "    plate_layout_dataframe = plate_layout_path,\n",
    "    output_directory = output_directory\n",
    "    )"
   ]
  },
  {
   "cell_type": "code",
   "execution_count": null,
   "metadata": {},
   "outputs": [],
   "source": [
    "# identify targets found inside microglia cells that may be EV associated using a tidy dataframe\n",
    "\n",
    "identify_targets(\n",
    "    assay_list_path = assay_list_path,\n",
    "    uniprot_fasta_database = uniprot_fasta_database, \n",
    "    brain_rna_seq_raw_path = brain_rna_seq_raw_path,\n",
    "    region = \"internal\", \n",
    "    cell_type = \"microglia\", \n",
    "    specificity_metric = \"tau\", \n",
    "    specificity_cutoff = 0.75,\n",
    "    high_fractions = ['9', '10'], \n",
    "    low_fractions = ['7', '11', '12', '13'], \n",
    "    sample_health = 'healthy', \n",
    "    mean_median_individual = 'individual_median',\n",
    "    plate_layout_dataframe = plate_layout_path,\n",
    "    tidy_dataframe = tidy_data,\n",
    "    output_directory = output_directory\n",
    "    )"
   ]
  },
  {
   "cell_type": "code",
   "execution_count": null,
   "metadata": {},
   "outputs": [],
   "source": [
    "# make a box-and-whisker plot for a target of interest\n",
    "\n",
    "plot_protein_fractionation(tidy_data, \"Q7Z6K4\")"
   ]
  },
  {
   "cell_type": "code",
   "execution_count": null,
   "metadata": {},
   "outputs": [],
   "source": [
    "# Find possible neuron-associated proteins and graph the EV association score against the tau specificity score\n",
    "\n",
    "internal_neuron = identify_targets(\n",
    "    assay_list_path = assay_list_path,\n",
    "    uniprot_fasta_database = uniprot_fasta_database, \n",
    "    brain_rna_seq_raw_path = brain_rna_seq_raw_path,\n",
    "    region = \"internal\", \n",
    "    cell_type = \"neuron\", \n",
    "    specificity_metric = \"tau\", \n",
    "    specificity_cutoff = 0.75,\n",
    "    high_fractions = ['9', '10'], \n",
    "    low_fractions = ['7', '11', '12', '13'], \n",
    "    sample_health = 'healthy', \n",
    "    mean_median_individual = 'individual_median',\n",
    "    plate_layout_dataframe = plate_layout_path,\n",
    "    tidy_dataframe = tidy_data,\n",
    "    output_directory = output_directory\n",
    "    )\n",
    "\n",
    "transmembrane_neuron = identify_targets(\n",
    "    assay_list_path = assay_list_path,\n",
    "    uniprot_fasta_database = uniprot_fasta_database, \n",
    "    brain_rna_seq_raw_path = brain_rna_seq_raw_path,\n",
    "    region = \"TMhelix\", \n",
    "    cell_type = \"neuron\", \n",
    "    specificity_metric = \"tau\", \n",
    "    specificity_cutoff = 0.75,\n",
    "    high_fractions = ['9', '10'], \n",
    "    low_fractions = ['7', '11', '12', '13'], \n",
    "    sample_health = 'healthy', \n",
    "    mean_median_individual = 'individual_median',\n",
    "    plate_layout_dataframe = plate_layout_path,\n",
    "    tidy_dataframe = tidy_data,\n",
    "    output_directory = output_directory\n",
    "    )\n",
    "\n",
    "brain_rna_seq_data = map_hgnc_ids(brain_rna_seq_raw_path)\n",
    "\n",
    "expression_df = create_enrichment_dataframe(brain_rna_seq_data)\n",
    "tau_scores = expression_df.apply(lambda row: calculate_enrichment(row, \"tau\"), axis = 1)\n",
    "\n",
    "internal_neuron_tau = tau_scores[tau_scores.index.isin(internal_neuron)]\n",
    "transmembrane_neuron_tau = tau_scores[tau_scores.index.isin(transmembrane_neuron)]\n",
    "\n",
    "internal_neuron_df = tidy_data.loc[:, list(internal_neuron)]\n",
    "transmembrane_neuron_df = tidy_data.loc[:, list(transmembrane_neuron)]"
   ]
  }
 ],
 "metadata": {
  "kernelspec": {
   "display_name": "base",
   "language": "python",
   "name": "python3"
  },
  "language_info": {
   "codemirror_mode": {
    "name": "ipython",
    "version": 3
   },
   "file_extension": ".py",
   "mimetype": "text/x-python",
   "name": "python",
   "nbconvert_exporter": "python",
   "pygments_lexer": "ipython3",
   "version": "3.11.5"
  }
 },
 "nbformat": 4,
 "nbformat_minor": 2
}
