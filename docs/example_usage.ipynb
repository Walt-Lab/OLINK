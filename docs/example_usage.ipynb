{
 "cells": [
  {
   "cell_type": "code",
   "execution_count": 1,
   "metadata": {},
   "outputs": [],
   "source": [
    "import os\n",
    "import sys\n",
    "\n",
    "sys.path.extend([\n",
    "    \"C:\\\\Users\\\\Wyss User\\\\AppData\\\\Local\\\\Packages\\\\PythonSoftwareFoundation.Python.3.11_qbz5n2kfra8p0\\\\LocalCache\\\\local-packages\\\\Python311\\\\site-packages\",\n",
    "    \"C:\\\\Users\\\\Wyss User\\\\Documents\\\\EVs\\\\OLINK\\\\src\",\n",
    "])\n",
    "\n",
    "from identify_targets import identify_targets"
   ]
  },
  {
   "cell_type": "code",
   "execution_count": 2,
   "metadata": {},
   "outputs": [],
   "source": [
    "raw_data = \"C:\\\\Users\\\\Wyss User\\\\Documents\\\\EVs\\\\OLINK\\\\data\\\\240214_Walt_Olink_HT_Raw.parquet\"\n",
    "uniprot_fasta_database = (\n",
    "    \"C:\\\\Users\\\\Wyss User\\\\Documents\\\\EVs\\\\OLINK\\\\data\\\\uniprot_fasta_database.gz\"\n",
    ")\n",
    "plate_layout_path = \"C:\\\\Users\\\\Wyss User\\\\Documents\\\\EVs\\\\OLINK\\\\data\\\\231204_Walt_Olink_HT_Plate.xlsx\"\n",
    "assay_list_path = (\n",
    "    \"C:\\\\Users\\\\Wyss User\\\\Documents\\\\EVs\\\\OLINK\\\\data\\\\231220_ht_panel_assay_list.xlsx\"\n",
    ")\n",
    "output_directory = \"C:\\\\Users\\\\Wyss User\\\\Documents\\\\EVs\\\\OLINK\\\\outputs\\\\ht_output\""
   ]
  },
  {
   "cell_type": "code",
   "execution_count": 3,
   "metadata": {},
   "outputs": [
    {
     "name": "stderr",
     "output_type": "stream",
     "text": [
      "C:\\Users\\Wyss User\\Documents\\EVs\\OLINK\\src\\raw_data_preprocessing.py:62: SettingWithCopyWarning: \n",
      "A value is trying to be set on a copy of a slice from a DataFrame.\n",
      "Try using .loc[row_indexer,col_indexer] = value instead\n",
      "\n",
      "See the caveats in the documentation: https://pandas.pydata.org/pandas-docs/stable/user_guide/indexing.html#returning-a-view-versus-a-copy\n",
      "  unique_data[\"Delta\"] = unique_data.apply(\n",
      "C:\\Users\\Wyss User\\Documents\\EVs\\OLINK\\src\\raw_data_preprocessing.py:70: SettingWithCopyWarning: \n",
      "A value is trying to be set on a copy of a slice from a DataFrame.\n",
      "Try using .loc[row_indexer,col_indexer] = value instead\n",
      "\n",
      "See the caveats in the documentation: https://pandas.pydata.org/pandas-docs/stable/user_guide/indexing.html#returning-a-view-versus-a-copy\n",
      "  unique_data.loc[:, \"Linear NPX\"] = unique_data[\"PCNormalizedNPX\"].map(lambda x: 2**x)\n"
     ]
    },
    {
     "data": {
      "text/plain": [
       "{'A2A288',\n",
       " 'P14317',\n",
       " 'P19838',\n",
       " 'P57796',\n",
       " 'Q12802',\n",
       " 'Q6P0N0',\n",
       " 'Q6P589',\n",
       " 'Q7Z6K4',\n",
       " 'Q9NP95',\n",
       " 'Q9Y572'}"
      ]
     },
     "execution_count": 3,
     "metadata": {},
     "output_type": "execute_result"
    }
   ],
   "source": [
    "# os.chdir('C:\\\\Users\\\\Wyss User\\\\Documents\\\\EVs\\\\OLINK\\\\data')\n",
    "\n",
    "identify_targets(\n",
    "    assay_list_path = assay_list_path,\n",
    "    uniprot_fasta_database = uniprot_fasta_database, \n",
    "    region = \"internal\", \n",
    "    cell_type = \"microglia\", \n",
    "    specificity_metric = \"tau\", \n",
    "    specificity_cutoff = 0.75,\n",
    "    high_fractions = ['9', '10'], \n",
    "    low_fractions = ['7', '11', '12', '13'], \n",
    "    sample_health = 'healthy', \n",
    "    mean_median_individual = 'individual_median',\n",
    "    raw_olink_data_file = raw_data,\n",
    "    plate_layout_dataframe = plate_layout_path,\n",
    "    output_directory = output_directory\n",
    "    )"
   ]
  },
  {
   "cell_type": "code",
   "execution_count": null,
   "metadata": {},
   "outputs": [],
   "source": []
  }
 ],
 "metadata": {
  "kernelspec": {
   "display_name": "base",
   "language": "python",
   "name": "python3"
  },
  "language_info": {
   "codemirror_mode": {
    "name": "ipython",
    "version": 3
   },
   "file_extension": ".py",
   "mimetype": "text/x-python",
   "name": "python",
   "nbconvert_exporter": "python",
   "pygments_lexer": "ipython3",
   "version": "3.11.5"
  }
 },
 "nbformat": 4,
 "nbformat_minor": 2
}
